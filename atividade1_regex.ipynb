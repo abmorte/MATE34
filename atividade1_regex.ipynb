{
 "cells": [
  {
   "cell_type": "markdown",
   "metadata": {},
   "source": [
    "#### Usando Expressões Regulares para o reconhecimento de entidade nomeadas Pessoa e Localidade"
   ]
  },
  {
   "cell_type": "code",
   "execution_count": 1,
   "metadata": {},
   "outputs": [],
   "source": [
    "import re"
   ]
  },
  {
   "cell_type": "code",
   "execution_count": 2,
   "metadata": {},
   "outputs": [],
   "source": [
    "def multi_re_find(patterns, phrase):\n",
    "    '''\n",
    "    Pega uma lista de padrões regex\n",
    "    Imprime a lista de todos os matches\n",
    "    '''\n",
    "    for pattern in patterns:\n",
    "        print('Procurando a frase usando o re check: %r' %pattern)\n",
    "        print(re.findall(pattern, phrase))\n",
    "        print('\\n')"
   ]
  },
  {
   "cell_type": "code",
   "execution_count": 42,
   "metadata": {},
   "outputs": [
    {
     "name": "stdout",
     "output_type": "stream",
     "text": [
      "Procurando a frase usando o re check: '^[a-zA-Z ]{2,30}$'\n",
      "['Antonio Carlos da Silva Jobim']\n",
      "\n",
      "\n"
     ]
    }
   ],
   "source": [
    "test_phrase = 'Antonio Carlos da Silva Jobim'\n",
    "'''\n",
    "Regex tips, vide https://regex101.com/ :\n",
    "- ^: início da string\n",
    "- [a-zA-Z ]: caracteres na faixa a-z ou A-Z e espaço\n",
    "- {2,30}: mínimo de 2 e máximo de 30 caracteres\n",
    "- $: fim da string \n",
    "'''\n",
    "\n",
    "test_patterns=[ r'^[a-zA-Z ]{2,30}$']\n",
    "\n",
    "multi_re_find(test_patterns,test_phrase)"
   ]
  }
 ],
 "metadata": {
  "kernelspec": {
   "display_name": "Python 3.9.6 ('venv': venv)",
   "language": "python",
   "name": "python3"
  },
  "language_info": {
   "codemirror_mode": {
    "name": "ipython",
    "version": 3
   },
   "file_extension": ".py",
   "mimetype": "text/x-python",
   "name": "python",
   "nbconvert_exporter": "python",
   "pygments_lexer": "ipython3",
   "version": "3.9.6"
  },
  "orig_nbformat": 4,
  "vscode": {
   "interpreter": {
    "hash": "d1ba1fd7e710fea97f9c1e6be3dc606f9cb6ed84d22a19fae370f3964e97be7f"
   }
  }
 },
 "nbformat": 4,
 "nbformat_minor": 2
}
