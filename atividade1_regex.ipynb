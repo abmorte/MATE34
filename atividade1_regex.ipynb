{
 "cells": [
  {
   "cell_type": "markdown",
   "metadata": {},
   "source": [
    "#### Usando Expressões Regulares para o reconhecimento de entidade nomeadas Pessoa e Localidade"
   ]
  },
  {
   "cell_type": "code",
   "execution_count": 1,
   "metadata": {},
   "outputs": [],
   "source": [
    "import re"
   ]
  },
  {
   "cell_type": "code",
   "execution_count": 112,
   "metadata": {},
   "outputs": [],
   "source": [
    "def multi_re_find(pattern):\n",
    "    '''\n",
    "    Pega uma lista de padrões regex\n",
    "    Imprime a lista de todos os matches\n",
    "    '''\n",
    "    \n",
    "    print('Procurando nomes de pessoas no corpus usando o re check: %r' %pattern)\n",
    "    \n",
    "    filename = r\"corpus\\sentencas_FORMAS.txt\"\n",
    "    textfile = open(filename, 'r')\n",
    "    matches = []\n",
    "    \n",
    "    for line in textfile:\n",
    "        matches += re.findall(pattern, line)\n",
    "\n",
    "    textfile.close()\n",
    "    \n",
    "    print(matches)"
   ]
  },
  {
   "cell_type": "code",
   "execution_count": 113,
   "metadata": {},
   "outputs": [
    {
     "name": "stdout",
     "output_type": "stream",
     "text": [
      "Procurando nomes de pessoas no corpus usando o re check: '^(?:(?:d|D|O|Mc|Mac|al\\\\-))?[A-Z]{1}[a-z]{1,30}\\\\s(?:(?:de|do|dos|da|das|del|van|von|bin|le)\\\\s)?[A-Z]{1}[a-z]{1,30}$'\n",
      "['Condado de Kootenai', 'Getulio Vargas', 'Juarez Verba']\n"
     ]
    }
   ],
   "source": [
    "'''\n",
    "Regras para nomes completos:\n",
    "\n",
    "1. Nome completo é composto por prenome e sobrenome, podendo haver a ocorrência de prefixo, conjunção e sufixo.\n",
    "2. As partes do nome completo (palavras) são compostas por letras, podendo haver a ocorrência de hífens e apóstrofos.\n",
    "3. A primeira letra de cada palavra é maiúscula.\n",
    "4. Palavras (exceto conjunções) devem ter entre 2 e 30 letras.\n",
    "\n",
    "\n",
    "e traços.\n",
    "1. Nome deve ter pelo menos 3 caracteres\n",
    "- [a-zA-Z ]: caracteres na faixa a-z ou A-Z e espaço\n",
    "- {2,30}: mínimo de 2 e máximo de 30 caracteres\n",
    "\n",
    "\n",
    "Dicas regex:\n",
    "- ^: início da string\n",
    "- $: fim da string \n",
    "\n",
    "\n",
    "SUFIXO = ''\n",
    "\n",
    "Restringir domínios:\n",
    "Médico: Doutor Dr. Dra. Doutora Dra. Doutor Dra. Doutora Dra.\n",
    "Acadêmico: Professor Prof. Profa. Prof. Profa. Prof. Profa., et al\n",
    "Jurídico: Advogado Adv. Advogado Adv. Adv. Adv. Adv. Adv.\n",
    "\n",
    "'''\n",
    "\n",
    "PREFIXO = '(?:(?:d''|D''|O''|Mc|Mac|al\\-))?'\n",
    "PRENOME = '[A-Z]{1}[a-z]{1,30}'\n",
    "ESPACO =  '\\s' \n",
    "CONJUNCAO = '(?:(?:de|do|dos|da|das|del|van|von|bin|le)\\s)?' \n",
    "SOBRENOME = '[A-Z]{1}[a-z]{1,30}' \n",
    "\n",
    "NOME_COMPLETO = '^' + PREFIXO + PRENOME + ESPACO + CONJUNCAO + SOBRENOME + '$'\n",
    "\n",
    "#test_phrase = 'd''Antonio de Xavier'\n",
    "#test_phrase = 'Anderson de Matos'\n",
    "#test_phrase  = 'Anderson Matos'\n",
    "\n",
    "#test_patterns=[r'' + NOME_COMPLETO]\n",
    "test_patterns = r'' + NOME_COMPLETO\n",
    "\n",
    "#multi_re_find(test_patterns,test_phrase)\n",
    "multi_re_find(test_patterns)"
   ]
  }
 ],
 "metadata": {
  "kernelspec": {
   "display_name": "Python 3.9.6 ('venv': venv)",
   "language": "python",
   "name": "python3"
  },
  "language_info": {
   "codemirror_mode": {
    "name": "ipython",
    "version": 3
   },
   "file_extension": ".py",
   "mimetype": "text/x-python",
   "name": "python",
   "nbconvert_exporter": "python",
   "pygments_lexer": "ipython3",
   "version": "3.9.6"
  },
  "orig_nbformat": 4,
  "vscode": {
   "interpreter": {
    "hash": "d1ba1fd7e710fea97f9c1e6be3dc606f9cb6ed84d22a19fae370f3964e97be7f"
   }
  }
 },
 "nbformat": 4,
 "nbformat_minor": 2
}
